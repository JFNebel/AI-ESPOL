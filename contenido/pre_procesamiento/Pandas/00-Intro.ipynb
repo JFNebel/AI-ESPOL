{
 "cells": [
  {
   "cell_type": "markdown",
   "id": "d3ab45f9-3e59-48be-92a1-ceeebd4052f0",
   "metadata": {},
   "source": [
    "# Inroducción a Pandas\n",
    "\n",
    "Gran parte del tiempo de trabajo en lo que la Ciencia de Datos y Machine Learning respectan consiste en trabajar con grandes (o de tamaño moderado) cantidades de datos.  \n",
    "\n",
    "Pandas es, argumentablemente, la librería más popular dentro del ecosistema de Python para la manipulación tabulada de datos. Tiene una gran colección de objetos, métodos y funciones optimizadas que le facilitan, a quien conozca de su uso, una gran flexibilidad para trabajar. \n",
    "\n",
    "Familiarizarse (o recordar) los pilares fundamentales de Pandas, más allá de ser una ventaja, resulta una necesidad para cualquiera interesado en estas áreas."
   ]
  },
  {
   "cell_type": "markdown",
   "id": "ada310ff-fccb-4224-8f5a-99caeaf920e8",
   "metadata": {
    "tags": []
   },
   "source": [
    "## Propósito de los autores"
   ]
  },
  {
   "cell_type": "markdown",
   "id": "a70a4a26-4d03-4039-9fcd-3034048f9666",
   "metadata": {},
   "source": [
    "Estos notebooks fueron generados por el grupo de Inteligencia Artificial ([IA@ESPOL](http://www.iaespol.ec/)) de la Escuela Superior Politécnica del Litoral ([ESPOL](https://www.espol.edu.ec/)). \n",
    "\n",
    "El propósito del grupo [IA@ESPOL](http://www.iaespol.ec/) es difundir y compartir conocimiento relevante a la Inteligencia Artificial a nuestra comunidad y a todo interesado mientras se aprende en el proceso.\n"
   ]
  },
  {
   "cell_type": "markdown",
   "id": "0504ed9a-25fb-42f9-a03a-043889dec78b",
   "metadata": {},
   "source": [
    "## Propósito de estos notebooks\n"
   ]
  },
  {
   "cell_type": "markdown",
   "id": "2de6dade-1c24-47de-8342-38f74277fdbf",
   "metadata": {},
   "source": [
    "Estos notebooks tienen como objetivo cubrir conceptos fundamentales y de uso común de Pandas cuando se trabaja con datos; así como servir de referencia futura cuando, invariablemente, se tenga que revisar nuevamente una sintáxis/método/propiedad/función que no recordemos. \n",
    "\n",
    "El objetivo no es tanto ser un recurso introductorio (para eso proponemos los cursos del repositorio), más bien, es un recurso fácil de referenciar cuando uno que otro concepto se ha ido olvidando o no ha quedado muy claro.\n",
    "\n",
    "Estos archivos son basados en gran parte en el curso gratuito introductorio de Pandas brindado por [Kaggle](https://www.kaggle.com/learn/pandas) y modificados a partir de lo que consideramos una extensión importante o común de usos o \"trucos\" en Pandas."
   ]
  },
  {
   "cell_type": "markdown",
   "id": "a9d800ef-da52-4764-b0f2-4d1b42d52e12",
   "metadata": {},
   "source": [
    "## Desarrollo continuo"
   ]
  },
  {
   "cell_type": "markdown",
   "id": "fa89ba36-2077-41b3-8171-a855d4e195cb",
   "metadata": {},
   "source": [
    "Estos ejemplos representan una de varias aristas en una iniciativa macro por parte del grupo [IA@ESPOL](http://www.iaespol.ec/) de generar una comunidad donde, la revisión y la depuración de contenido formativo es constante y siempre abierta al público de manera gratuita y con espíritu de contribución. \n",
    "\n",
    "Cualquier contribución/corrección que el lector desee impartir, no dudar generar un PR en nuestro repositorio [IA-ESPOL](https://github.com/JosueDavalos/AI-ESPOL). Un miembro del grupo revisará el PR y hará el merge adecuado o contestará con retroalimentación necesaria.\n",
    "\n",
    "Cualquier error, sugerencia, mejora que se desee señalar es más que bienvenida. No dudar hacerla a la dirección de correo [ia@espol.edu.ec](ia@espol.edu.ec)."
   ]
  },
  {
   "cell_type": "markdown",
   "id": "fdd39596-9193-4f8a-9848-152d0872fe2b",
   "metadata": {},
   "source": [
    "## Recursos extras de posible interés"
   ]
  },
  {
   "cell_type": "markdown",
   "id": "01f583e1-b589-4a42-a513-b198c4060ef7",
   "metadata": {},
   "source": [
    "[Pandas documentation](https://pandas.pydata.org/docs/)  \n",
    "[Kaggle's Pandas course](https://www.kaggle.com/learn/pandas)  "
   ]
  }
 ],
 "metadata": {
  "kernelspec": {
   "display_name": "Python 3",
   "language": "python",
   "name": "python3"
  },
  "language_info": {
   "codemirror_mode": {
    "name": "ipython",
    "version": 3
   },
   "file_extension": ".py",
   "mimetype": "text/x-python",
   "name": "python",
   "nbconvert_exporter": "python",
   "pygments_lexer": "ipython3",
   "version": "3.9.10"
  }
 },
 "nbformat": 4,
 "nbformat_minor": 5
}
