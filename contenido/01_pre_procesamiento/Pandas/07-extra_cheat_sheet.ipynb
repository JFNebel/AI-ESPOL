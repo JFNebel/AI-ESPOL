{
 "cells": [
  {
   "cell_type": "code",
   "execution_count": null,
   "id": "7087ef21-f0f9-4d65-ad5e-2fad5141b7de",
   "metadata": {},
   "outputs": [],
   "source": [
    "import pandas as pd\n",
    "\n",
    "df = pd.read_csv('data/titanic.csv')\n",
    "df.head(3)"
   ]
  },
  {
   "cell_type": "markdown",
   "id": "a7415028-4270-4eec-bc92-45a2c3e6ffd0",
   "metadata": {},
   "source": [
    "### Useful & common properties"
   ]
  },
  {
   "cell_type": "code",
   "execution_count": null,
   "id": "f6bd1510-8cbc-47d0-9207-7926fa416f55",
   "metadata": {},
   "outputs": [],
   "source": [
    "# Shape: Gives tuple with number of rows and columns\n",
    "df.shape  \n",
    "\n",
    "# Dtypes and dtype: Tells you the data type of the values in the DataFrame/Series\n",
    "df.Age.dtype  # For Series it's dtype (no \"s\")\n",
    "df.dtypes     # For DataFrame it's dtypes (with \"s\")\n",
    "\n",
    "# Returns listlike object with col/index names\n",
    "df.index  \n",
    "df.columns\n",
    "\n",
    "# Properties might have sub-props too.  \n",
    "df.index.name = \"PandasDefaultId\"  # Rename the index column\n",
    "df.head(3)"
   ]
  },
  {
   "cell_type": "markdown",
   "id": "cc5792c7-3cac-4efa-ac52-d3059f7fbfc2",
   "metadata": {},
   "source": [
    "## Handy methods"
   ]
  },
  {
   "cell_type": "markdown",
   "id": "97a997fb-320a-480a-bc90-ce6761268a10",
   "metadata": {},
   "source": [
    "### Statistically relevant methods"
   ]
  },
  {
   "cell_type": "code",
   "execution_count": null,
   "id": "ccb6b059-b758-42cc-baef-67f4a43c8d97",
   "metadata": {},
   "outputs": [],
   "source": [
    "# Head\n",
    "df.head()        # Shows the first 5 values (5 is the default number)\n",
    "df.Age.head(10)  # Shows the first 10 values \n",
    "df.Age.tail(10)  # Shows the last 10 columns\n",
    "\n",
    "# Describe (Series and DataFrame)\n",
    "df.Age.describe()\n",
    "df.describe()\n",
    "\n",
    "# Mean (Series and DataFrame)\n",
    "df.Age.mean()  # Returns the mean value\n",
    "df.mean()      # Returns a Series with all the relevant means with the DataFrame's columns as index\n",
    "\n",
    "# Median\n",
    "df.Age.median()  # Returns the median value\n",
    "df.median()      # Returns a Series with all the relevant medians with the DataFrame's columns as index\n",
    "\n",
    "# Std\n",
    "df.Age.std()  # Returns the standard deviation value for \"Age\" column.\n",
    "df.std()      # Returns a Series with all the relevant standard deviations with the Dataframe's columns as index\n",
    "\n",
    "# Var\n",
    "df.Age.var()  # Returns the variance values for \"Age\" columns.\n",
    "df.var()      # Returns a Series with all the relevant variances with the Dataframe's columns as index.\n",
    "\n",
    "# Uniques\n",
    "df.Sex.unique()           # Returns an Array of the unique values present in a series.\n",
    "df.nunique(axis='index')  # Returns an Array of the number of unique values per column in a DataFrame\n",
    "\n",
    "# Value counts\n",
    "df.Survived.value_counts()  # Series with the unique values and the number of their occurance \n",
    "\n",
    "# idxmax()/idxmin()\n",
    "df.Age.idxmax()  # Throws the id of the max value\n",
    "df.Age.idxmin()  # Throws the id of the min value"
   ]
  },
  {
   "cell_type": "markdown",
   "id": "8ea7a136-1c3b-47c3-8986-9f91240dd1c6",
   "metadata": {},
   "source": [
    "### NaN, None, Null & duplicate values handling"
   ]
  },
  {
   "cell_type": "code",
   "execution_count": null,
   "id": "8914f2b8-55f6-4ffa-b5d7-d5897bbac637",
   "metadata": {},
   "outputs": [],
   "source": [
    "# Count nulls/non-nulls in a Series/DataFrame\n",
    "df.Cabin.isnull().sum()   # Gives the number of nulls in the \"Cabin\" column\n",
    "df.Cabin.notnull().sum()  # Gives the number of non-nulls in the \"Cabin\" column\n",
    "df.isnull().sum()         # Returns a Series with the number of nulls per columns in the DataFrame\n",
    "df.notnull().sum()        # Returns a Series with the number of non-nulls per columns in the DataFrame\n",
    "\n",
    "# Fill all NaN (not a number, Null values)\n",
    "df.Cabin.fillna('Unknown')  # Can also add the kwarg \"inplace=True\"\n",
    "\n",
    "# Eliminate rows with NaN values\n",
    "df.dropna()  # You can \"inplace=True\" \n",
    "\n",
    "# Drop duplicates\n",
    "df.drop_duplicates()                        # It drops duplicates\n",
    "df.drop_duplicates(subset=['Age', 'Sex'])   # It drops duplicates and it considers duplicates every row that matches values in all features of the subset columns"
   ]
  },
  {
   "cell_type": "markdown",
   "id": "5589b626-03cf-49cf-88d7-76b42144a1b1",
   "metadata": {},
   "source": [
    "### Sorting & renaming (by) index/columns"
   ]
  },
  {
   "cell_type": "code",
   "execution_count": null,
   "id": "6594e2d5-7899-4622-ad24-562a99de2003",
   "metadata": {},
   "outputs": [],
   "source": [
    "# Sorting values\n",
    "df.Age.sort_values()\n",
    "df.sort_values(by=['Age', 'Pclass'], ascending=False)\n",
    "df.sort_values(by='Age', ignore_index=True)  # ignore_index=True prevents the resulting DataFrame to have indexes all over the place (having indexes all over the place is dangerous if planning to make arithmetical operations or make de DataFrame keep this structure indefinately)\n",
    "\n",
    "# Sorting indexes\n",
    "df.sort_index(ascending=False)\n",
    "\n",
    "# Rename \n",
    "df.rename(\n",
    "    columns={'Pclass': 'BoardingClass', 'Sex': 'Gender'}, # Renames the specified column values\n",
    "    index={0: 'First', 1: 'Second'}                       # Renames the specified index values\n",
    ")\n",
    "\n",
    "# Rename the axis itself (Sometimes you want to rename de axis, not the columns or the indexes themselves, usually the case with index axis)\n",
    "df.rename_axis('features', axis='columns').rename_axis('indexes', axis='index')\n",
    "\n",
    "# Resetting and Setting columns as index\n",
    "df.reset_index()                # Resets indexes and revert them to columns (Pandas will add the standard 0-n indexing by default). Can use \"inplace=True\". \n",
    "df.set_index(['PassengerId'])   # Sets all columns send as indexes (can be more than one). Can use \"inplace=True\"."
   ]
  },
  {
   "cell_type": "markdown",
   "id": "733df27c-d85b-4d40-a6b2-f265cc423169",
   "metadata": {},
   "source": [
    "### Conditional indexing"
   ]
  },
  {
   "cell_type": "code",
   "execution_count": null,
   "id": "58f3e56c-9f9d-4af2-80b5-1d03608e5dcd",
   "metadata": {},
   "outputs": [],
   "source": [
    "# Simplest version\n",
    "df[df.Age>30]  # Returns all rows of df which Age values are above 30\n",
    "\n",
    "# More complex boolean conditions\n",
    "mask1 = df.Age > 30\n",
    "mask2 = df.Age < 40\n",
    "df[mask1 & mask2]  # Returns all rows of df which Age values are above 30 AND below 40\n",
    "\n",
    "# Complex conditions for rows and specific columns (loc)\n",
    "df.loc[mask1 & mask2, ['Name', 'Age']]  # Returns the Name and Age of all rows from original df with Age values above 30 and below 40\n",
    "\n",
    "# Is in (throws booleans that work as a mask for conditional indexing)\n",
    "df.loc[df.Age.isin([30, 31, 32, 33])]  # Returns the rows which Age value is either 30, 31, 32 or 33\n",
    "\n",
    "# In Pandas, these type of masks are boolean Series objects and their values can be summed up\n",
    "(mask1).sum()  # Returns the number of entries with Age greater than 30\n",
    "\n",
    "# Select all rows that have a certain value in any for their fields. Ref: https://stackoverflow.com/questions/27020312/drop-row-in-pandas-dataframe-if-any-value-in-the-row-equals-zero\n",
    "df[(df!=0).all(1)]                  # Returns all rows of df that have NO 0 amongst it's values.\n",
    "df[(df!=0).all(axis='columns')]     # Another way to write the same thing\n",
    "\n",
    "# Invert truth values of masks or entire DataFrames\n",
    "~(mask1)\n",
    "~(df == 0)"
   ]
  },
  {
   "cell_type": "markdown",
   "id": "482d36c8-8d32-4672-8a63-6718577206e1",
   "metadata": {},
   "source": [
    "### Data replacement, modification, deletion & dtype handling"
   ]
  },
  {
   "cell_type": "code",
   "execution_count": null,
   "id": "825d3510-59ad-4f99-97ff-000753ba5a0b",
   "metadata": {},
   "outputs": [],
   "source": [
    "# Convert all data entries in a DataFrame or more likely in a Series to a dtype (remember strings are objects for Pandas)\n",
    "check = df.Age.astype('str')       # With native method (best)\n",
    "check = df.Age.apply(str)          # With apply\n",
    "\n",
    "# Replace all instances of something (3) with something else ('Lo bueno es que hay salud')\n",
    "df.Pclass.replace(3, 'Lo bueno es que hay salud :(')  # Can also add the kwarg \"inplace=True\"\n",
    "\n",
    "# Drop\n",
    "df.drop(df[df.Age > 30].index)  # It recieves a listlike object of indexes to drop. It's not inplace (creates copy).\n",
    "df.drop(['PassengerId', 'Pclass'], axis='columns')\n",
    "\n",
    "# Drop all rows that have a certain value in any for their fields.\n",
    "df.drop(df[~(df!=0).all(1)].index)  # Ref: https://stackoverflow.com/questions/27020312/drop-row-in-pandas-dataframe-if-any-value-in-the-row-equals-zero"
   ]
  },
  {
   "cell_type": "markdown",
   "id": "f14f2921-12d9-414f-9011-88683accb020",
   "metadata": {},
   "source": [
    "### Further reading\n",
    "[Summary functions and Map](https://www.kaggle.com/residentmario/summary-functions-and-maps/tutorial)<br>\n",
    "[Drop rows](https://statisticsglobe.com/delete-rows-in-pandas-dataframe-conditionally-python#example-2-remove-rows-of-pandas-dataframe-using-drop-function-index-attribute)<br>\n",
    "[Drop columns](https://statisticsglobe.com/delete-column-of-pandas-dataframe-in-python#example-3-remove-multiple-columns-from-pandas-dataframe-by-index-position)<br>"
   ]
  }
 ],
 "metadata": {
  "kernelspec": {
   "display_name": "Python 3",
   "language": "python",
   "name": "python3"
  },
  "language_info": {
   "codemirror_mode": {
    "name": "ipython",
    "version": 3
   },
   "file_extension": ".py",
   "mimetype": "text/x-python",
   "name": "python",
   "nbconvert_exporter": "python",
   "pygments_lexer": "ipython3",
   "version": "3.9.10"
  }
 },
 "nbformat": 4,
 "nbformat_minor": 5
}
