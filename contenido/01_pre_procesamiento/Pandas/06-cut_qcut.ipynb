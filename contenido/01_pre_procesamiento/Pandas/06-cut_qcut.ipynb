{
 "cells": [
  {
   "cell_type": "markdown",
   "id": "230b150c",
   "metadata": {},
   "source": [
    "# Cut() & QCut()"
   ]
  },
  {
   "cell_type": "markdown",
   "id": "a66fbc9b",
   "metadata": {},
   "source": [
    "\n",
    "#### Inputs: \n",
    "Both of these functions will take as first argument a 1d array (or a Series object) of NUMBERS, as second argument it will take the number of bins (also called buckets, basically agrupations) in which they'll distribute the data.\n",
    "<br><br>\n",
    "#### Outputs:\n",
    "Both cut() and qcut() return a Categorical type object if it recieves a 1d array as first\n",
    "argument. If it recieves a Series type object it will also return a Series.\n",
    "<br><br>\n",
    "#### Takeaways:\n",
    "1. Both cut() and qcut() are great for discretizizing data (making nominal discreet categories based on continuous values). \n",
    "2. If you want to create bins (groups) based on ranges of equal amplitude or on your own labels based on punctual values (like using the age of a person to call them \"kid\" (until 15), \"teen\" (until 20), \"adult\"(from then on), etc.) use cut().\n",
    "3. If you want to create bins based on the distribution of the values (quantiles a.k.a. position metrics), ergo, you want each bin to have more or less the same number of values falling in them, use qcut()."
   ]
  },
  {
   "cell_type": "markdown",
   "id": "10510eed",
   "metadata": {},
   "source": [
    "## Setup"
   ]
  },
  {
   "cell_type": "code",
   "execution_count": 1,
   "id": "1bde2f4f",
   "metadata": {},
   "outputs": [
    {
     "data": {
      "text/html": [
       "<div>\n",
       "<style scoped>\n",
       "    .dataframe tbody tr th:only-of-type {\n",
       "        vertical-align: middle;\n",
       "    }\n",
       "\n",
       "    .dataframe tbody tr th {\n",
       "        vertical-align: top;\n",
       "    }\n",
       "\n",
       "    .dataframe thead th {\n",
       "        text-align: right;\n",
       "    }\n",
       "</style>\n",
       "<table border=\"1\" class=\"dataframe\">\n",
       "  <thead>\n",
       "    <tr style=\"text-align: right;\">\n",
       "      <th></th>\n",
       "      <th>PassengerId</th>\n",
       "      <th>Survived</th>\n",
       "      <th>Pclass</th>\n",
       "      <th>Name</th>\n",
       "      <th>Sex</th>\n",
       "      <th>Age</th>\n",
       "      <th>SibSp</th>\n",
       "      <th>Parch</th>\n",
       "      <th>Ticket</th>\n",
       "      <th>Fare</th>\n",
       "      <th>Cabin</th>\n",
       "      <th>Embarked</th>\n",
       "    </tr>\n",
       "  </thead>\n",
       "  <tbody>\n",
       "    <tr>\n",
       "      <th>0</th>\n",
       "      <td>1</td>\n",
       "      <td>0</td>\n",
       "      <td>3</td>\n",
       "      <td>Braund, Mr. Owen Harris</td>\n",
       "      <td>male</td>\n",
       "      <td>22.0</td>\n",
       "      <td>1</td>\n",
       "      <td>0</td>\n",
       "      <td>A/5 21171</td>\n",
       "      <td>7.2500</td>\n",
       "      <td>NaN</td>\n",
       "      <td>S</td>\n",
       "    </tr>\n",
       "    <tr>\n",
       "      <th>1</th>\n",
       "      <td>2</td>\n",
       "      <td>1</td>\n",
       "      <td>1</td>\n",
       "      <td>Cumings, Mrs. John Bradley (Florence Briggs Th...</td>\n",
       "      <td>female</td>\n",
       "      <td>38.0</td>\n",
       "      <td>1</td>\n",
       "      <td>0</td>\n",
       "      <td>PC 17599</td>\n",
       "      <td>71.2833</td>\n",
       "      <td>C85</td>\n",
       "      <td>C</td>\n",
       "    </tr>\n",
       "    <tr>\n",
       "      <th>2</th>\n",
       "      <td>3</td>\n",
       "      <td>1</td>\n",
       "      <td>3</td>\n",
       "      <td>Heikkinen, Miss. Laina</td>\n",
       "      <td>female</td>\n",
       "      <td>26.0</td>\n",
       "      <td>0</td>\n",
       "      <td>0</td>\n",
       "      <td>STON/O2. 3101282</td>\n",
       "      <td>7.9250</td>\n",
       "      <td>NaN</td>\n",
       "      <td>S</td>\n",
       "    </tr>\n",
       "    <tr>\n",
       "      <th>3</th>\n",
       "      <td>4</td>\n",
       "      <td>1</td>\n",
       "      <td>1</td>\n",
       "      <td>Futrelle, Mrs. Jacques Heath (Lily May Peel)</td>\n",
       "      <td>female</td>\n",
       "      <td>35.0</td>\n",
       "      <td>1</td>\n",
       "      <td>0</td>\n",
       "      <td>113803</td>\n",
       "      <td>53.1000</td>\n",
       "      <td>C123</td>\n",
       "      <td>S</td>\n",
       "    </tr>\n",
       "    <tr>\n",
       "      <th>4</th>\n",
       "      <td>5</td>\n",
       "      <td>0</td>\n",
       "      <td>3</td>\n",
       "      <td>Allen, Mr. William Henry</td>\n",
       "      <td>male</td>\n",
       "      <td>35.0</td>\n",
       "      <td>0</td>\n",
       "      <td>0</td>\n",
       "      <td>373450</td>\n",
       "      <td>8.0500</td>\n",
       "      <td>NaN</td>\n",
       "      <td>S</td>\n",
       "    </tr>\n",
       "  </tbody>\n",
       "</table>\n",
       "</div>"
      ],
      "text/plain": [
       "   PassengerId  Survived  Pclass  \\\n",
       "0            1         0       3   \n",
       "1            2         1       1   \n",
       "2            3         1       3   \n",
       "3            4         1       1   \n",
       "4            5         0       3   \n",
       "\n",
       "                                                Name     Sex   Age  SibSp  \\\n",
       "0                            Braund, Mr. Owen Harris    male  22.0      1   \n",
       "1  Cumings, Mrs. John Bradley (Florence Briggs Th...  female  38.0      1   \n",
       "2                             Heikkinen, Miss. Laina  female  26.0      0   \n",
       "3       Futrelle, Mrs. Jacques Heath (Lily May Peel)  female  35.0      1   \n",
       "4                           Allen, Mr. William Henry    male  35.0      0   \n",
       "\n",
       "   Parch            Ticket     Fare Cabin Embarked  \n",
       "0      0         A/5 21171   7.2500   NaN        S  \n",
       "1      0          PC 17599  71.2833   C85        C  \n",
       "2      0  STON/O2. 3101282   7.9250   NaN        S  \n",
       "3      0            113803  53.1000  C123        S  \n",
       "4      0            373450   8.0500   NaN        S  "
      ]
     },
     "execution_count": 1,
     "metadata": {},
     "output_type": "execute_result"
    }
   ],
   "source": [
    "# Imports\n",
    "import numpy as np\n",
    "import pandas as pd\n",
    "\n",
    "# We define factors in order to use it as our synthetic \"series\" (hard coded).\n",
    "factors = [1, 0, 2, 3, 4, 5, 6, 7, 10, 20, 15, 40, 59, 30, 28, 29]\n",
    "\n",
    "# Setting up data frames\n",
    "titanic_df = pd.read_csv('Data/titanic.csv')\n",
    "titanic_df.head()"
   ]
  },
  {
   "cell_type": "markdown",
   "id": "7780d2f4-8092-4e6b-82d0-bae62fee1a56",
   "metadata": {},
   "source": [
    "## Cut()\n",
    "Cut() will create groups (bins) of equall range/length/amplitude. In other words, cut() concerns itself with the actual values of the structure sent as the first argument. \n",
    "<br>"
   ]
  },
  {
   "cell_type": "markdown",
   "id": "b6e9b4ad",
   "metadata": {},
   "source": [
    "Depending on the type of the input sent as first argument, cut() will return a different data type. If one sends a 1d array it'll return a Categorical object, if one sends a Series, it'll return a Series object.\n",
    "\n",
    "[Check cut's documentation](https://pandas.pydata.org/pandas-docs/stable/reference/api/pandas.cut.html)"
   ]
  },
  {
   "cell_type": "code",
   "execution_count": 2,
   "id": "69abc4bf",
   "metadata": {},
   "outputs": [
    {
     "data": {
      "text/plain": [
       "pandas.core.arrays.categorical.Categorical"
      ]
     },
     "execution_count": 2,
     "metadata": {},
     "output_type": "execute_result"
    }
   ],
   "source": [
    "# I: 1d array --> O: Categorical \n",
    "type(pd.cut(factors,5))"
   ]
  },
  {
   "cell_type": "code",
   "execution_count": 3,
   "id": "a60a012d",
   "metadata": {},
   "outputs": [
    {
     "data": {
      "text/plain": [
       "pandas.core.series.Series"
      ]
     },
     "execution_count": 3,
     "metadata": {},
     "output_type": "execute_result"
    }
   ],
   "source": [
    "# I: Series --> O: Series \n",
    "type(pd.cut(titanic_df.Age, 5))"
   ]
  },
  {
   "cell_type": "markdown",
   "id": "39f587c3-6205-4b7e-8496-ff02fe8cf546",
   "metadata": {},
   "source": [
    "### Categorical"
   ]
  },
  {
   "cell_type": "markdown",
   "id": "bde3d49b-252d-4e7e-ae9a-a67b9e4bc391",
   "metadata": {},
   "source": [
    "A Categorical object is an array-like structure containing intervals (Interval objects).<br>\n",
    "When checking Categorical, pandas also outputs the length of the categorical and the categories."
   ]
  },
  {
   "cell_type": "code",
   "execution_count": 4,
   "id": "6ee33863",
   "metadata": {},
   "outputs": [
    {
     "data": {
      "text/plain": [
       "[(-0.059, 11.8], (-0.059, 11.8], (-0.059, 11.8], (-0.059, 11.8], (-0.059, 11.8], ..., (35.4, 47.2], (47.2, 59.0], (23.6, 35.4], (23.6, 35.4], (23.6, 35.4]]\n",
       "Length: 16\n",
       "Categories (5, interval[float64]): [(-0.059, 11.8] < (11.8, 23.6] < (23.6, 35.4] < (35.4, 47.2] < (47.2, 59.0]]"
      ]
     },
     "execution_count": 4,
     "metadata": {},
     "output_type": "execute_result"
    }
   ],
   "source": [
    "# Checking a Categorical \n",
    "pd.cut(factors, 5)"
   ]
  },
  {
   "cell_type": "code",
   "execution_count": 5,
   "id": "f0b718a7",
   "metadata": {},
   "outputs": [
    {
     "data": {
      "text/plain": [
       "['Category 1', 'Category 1', 'Category 1', 'Category 1', 'Category 1', ..., 'Category 4', 'Category 5', 'Category 3', 'Category 3', 'Category 3']\n",
       "Length: 16\n",
       "Categories (5, object): ['Category 1' < 'Category 2' < 'Category 3' < 'Category 4' < 'Category 5']"
      ]
     },
     "execution_count": 5,
     "metadata": {},
     "output_type": "execute_result"
    }
   ],
   "source": [
    "# You can label the categories/bins\n",
    "pd.cut(factors, 5, labels=[\"Category 1\", \"Category 2\", \"Category 3\", \"Category 4\", \"Category 5\"])"
   ]
  },
  {
   "cell_type": "markdown",
   "id": "d067c055-6186-45e3-a461-25ad96a832df",
   "metadata": {},
   "source": [
    "### Series\n",
    "If you use a Series as input, cut() will return a Series with the proper categories for the values of the input Series."
   ]
  },
  {
   "cell_type": "code",
   "execution_count": 6,
   "id": "59e0e25d",
   "metadata": {},
   "outputs": [
    {
     "data": {
      "text/plain": [
       "0             Teen\n",
       "1      Young Adult\n",
       "2             Teen\n",
       "3      Young Adult\n",
       "4      Young Adult\n",
       "          ...     \n",
       "886           Teen\n",
       "887           Teen\n",
       "888            NaN\n",
       "889           Teen\n",
       "890           Teen\n",
       "Name: Age, Length: 891, dtype: category\n",
       "Categories (5, object): ['Kid' < 'Teen' < 'Young Adult' < 'Adult' < 'Elder']"
      ]
     },
     "execution_count": 6,
     "metadata": {},
     "output_type": "execute_result"
    }
   ],
   "source": [
    "pd.cut(titanic_df.Age, 5, labels=[\"Kid\", \"Teen\", \"Young Adult\", \"Adult\", \"Elder\"])"
   ]
  },
  {
   "cell_type": "code",
   "execution_count": 7,
   "id": "263e2b20-7891-45ef-ae44-ab950cb1a935",
   "metadata": {},
   "outputs": [
    {
     "data": {
      "text/plain": [
       "[(0.0, 5.0], NaN, (0.0, 5.0], (0.0, 5.0], (0.0, 5.0], ..., (20, 100], (20, 100], (20, 100], (20, 100], (20, 100]]\n",
       "Length: 16\n",
       "Categories (4, interval[int64]): [(0, 5] < (5, 10] < (10, 20] < (20, 100]]"
      ]
     },
     "execution_count": 7,
     "metadata": {},
     "output_type": "execute_result"
    }
   ],
   "source": [
    "# You can specify the breaking point values for the bins explicitly by sending a List\n",
    "pd.cut(factors, [0, 5, 10, 20, 100])  # Second value in the Categorical is a NaN"
   ]
  },
  {
   "cell_type": "markdown",
   "id": "24177d11-b569-4eac-8832-25ff16528890",
   "metadata": {},
   "source": [
    "### WARNING !!!\n",
    "Notice that the second element of the Categorical returned a NaN. In the original factors vector, the second value was a 0. This happened because anything outside the ranges of the Intervals will return a NaN and 0 is outside all ranges (lowest bound is not included in cut()).<br>\n",
    "\n",
    "This behaviour is exclusive to cut(), qcut() will accomodate bin bounds depending on the distribution of the input values and will thus include min values; unlike cut() who leaves the firstmost value out of all the defined bins. "
   ]
  },
  {
   "cell_type": "code",
   "execution_count": 8,
   "id": "56df97dd",
   "metadata": {},
   "outputs": [
    {
     "data": {
      "text/html": [
       "<div>\n",
       "<style scoped>\n",
       "    .dataframe tbody tr th:only-of-type {\n",
       "        vertical-align: middle;\n",
       "    }\n",
       "\n",
       "    .dataframe tbody tr th {\n",
       "        vertical-align: top;\n",
       "    }\n",
       "\n",
       "    .dataframe thead th {\n",
       "        text-align: right;\n",
       "    }\n",
       "</style>\n",
       "<table border=\"1\" class=\"dataframe\">\n",
       "  <thead>\n",
       "    <tr style=\"text-align: right;\">\n",
       "      <th></th>\n",
       "      <th>PassengerId</th>\n",
       "      <th>Survived</th>\n",
       "      <th>Pclass</th>\n",
       "      <th>Name</th>\n",
       "      <th>Sex</th>\n",
       "      <th>Age</th>\n",
       "      <th>SibSp</th>\n",
       "      <th>Parch</th>\n",
       "      <th>Ticket</th>\n",
       "      <th>Fare</th>\n",
       "      <th>Cabin</th>\n",
       "      <th>Embarked</th>\n",
       "      <th>Age Group</th>\n",
       "    </tr>\n",
       "  </thead>\n",
       "  <tbody>\n",
       "    <tr>\n",
       "      <th>0</th>\n",
       "      <td>1</td>\n",
       "      <td>0</td>\n",
       "      <td>3</td>\n",
       "      <td>Braund, Mr. Owen Harris</td>\n",
       "      <td>male</td>\n",
       "      <td>22.0</td>\n",
       "      <td>1</td>\n",
       "      <td>0</td>\n",
       "      <td>A/5 21171</td>\n",
       "      <td>7.2500</td>\n",
       "      <td>NaN</td>\n",
       "      <td>S</td>\n",
       "      <td>Young Adult</td>\n",
       "    </tr>\n",
       "    <tr>\n",
       "      <th>1</th>\n",
       "      <td>2</td>\n",
       "      <td>1</td>\n",
       "      <td>1</td>\n",
       "      <td>Cumings, Mrs. John Bradley (Florence Briggs Th...</td>\n",
       "      <td>female</td>\n",
       "      <td>38.0</td>\n",
       "      <td>1</td>\n",
       "      <td>0</td>\n",
       "      <td>PC 17599</td>\n",
       "      <td>71.2833</td>\n",
       "      <td>C85</td>\n",
       "      <td>C</td>\n",
       "      <td>Adult</td>\n",
       "    </tr>\n",
       "    <tr>\n",
       "      <th>2</th>\n",
       "      <td>3</td>\n",
       "      <td>1</td>\n",
       "      <td>3</td>\n",
       "      <td>Heikkinen, Miss. Laina</td>\n",
       "      <td>female</td>\n",
       "      <td>26.0</td>\n",
       "      <td>0</td>\n",
       "      <td>0</td>\n",
       "      <td>STON/O2. 3101282</td>\n",
       "      <td>7.9250</td>\n",
       "      <td>NaN</td>\n",
       "      <td>S</td>\n",
       "      <td>Young Adult</td>\n",
       "    </tr>\n",
       "    <tr>\n",
       "      <th>3</th>\n",
       "      <td>4</td>\n",
       "      <td>1</td>\n",
       "      <td>1</td>\n",
       "      <td>Futrelle, Mrs. Jacques Heath (Lily May Peel)</td>\n",
       "      <td>female</td>\n",
       "      <td>35.0</td>\n",
       "      <td>1</td>\n",
       "      <td>0</td>\n",
       "      <td>113803</td>\n",
       "      <td>53.1000</td>\n",
       "      <td>C123</td>\n",
       "      <td>S</td>\n",
       "      <td>Young Adult</td>\n",
       "    </tr>\n",
       "    <tr>\n",
       "      <th>4</th>\n",
       "      <td>5</td>\n",
       "      <td>0</td>\n",
       "      <td>3</td>\n",
       "      <td>Allen, Mr. William Henry</td>\n",
       "      <td>male</td>\n",
       "      <td>35.0</td>\n",
       "      <td>0</td>\n",
       "      <td>0</td>\n",
       "      <td>373450</td>\n",
       "      <td>8.0500</td>\n",
       "      <td>NaN</td>\n",
       "      <td>S</td>\n",
       "      <td>Young Adult</td>\n",
       "    </tr>\n",
       "  </tbody>\n",
       "</table>\n",
       "</div>"
      ],
      "text/plain": [
       "   PassengerId  Survived  Pclass  \\\n",
       "0            1         0       3   \n",
       "1            2         1       1   \n",
       "2            3         1       3   \n",
       "3            4         1       1   \n",
       "4            5         0       3   \n",
       "\n",
       "                                                Name     Sex   Age  SibSp  \\\n",
       "0                            Braund, Mr. Owen Harris    male  22.0      1   \n",
       "1  Cumings, Mrs. John Bradley (Florence Briggs Th...  female  38.0      1   \n",
       "2                             Heikkinen, Miss. Laina  female  26.0      0   \n",
       "3       Futrelle, Mrs. Jacques Heath (Lily May Peel)  female  35.0      1   \n",
       "4                           Allen, Mr. William Henry    male  35.0      0   \n",
       "\n",
       "   Parch            Ticket     Fare Cabin Embarked    Age Group  \n",
       "0      0         A/5 21171   7.2500   NaN        S  Young Adult  \n",
       "1      0          PC 17599  71.2833   C85        C        Adult  \n",
       "2      0  STON/O2. 3101282   7.9250   NaN        S  Young Adult  \n",
       "3      0            113803  53.1000  C123        S  Young Adult  \n",
       "4      0            373450   8.0500   NaN        S  Young Adult  "
      ]
     },
     "execution_count": 8,
     "metadata": {},
     "output_type": "execute_result"
    }
   ],
   "source": [
    "# Making a new discrete column in a dataframe using a continuous value\n",
    "new_age_column = pd.cut(titanic_df.Age, [0, 13, 20, 35, 60, 100], \n",
    "            labels=[\"Kid\", \"Teen\", \"Young Adult\", \"Adult\", \"Elder\"])\n",
    "\n",
    "titanic_df[\"Age Group\"] = new_age_column\n",
    "titanic_df.head()  # Check the new 'Age Group' column"
   ]
  },
  {
   "cell_type": "code",
   "execution_count": 9,
   "id": "a4553f01",
   "metadata": {},
   "outputs": [
    {
     "data": {
      "text/plain": [
       "(-0.059, 11.8]    9\n",
       "(11.8, 23.6]      2\n",
       "(23.6, 35.4]      3\n",
       "(35.4, 47.2]      1\n",
       "(47.2, 59.0]      1\n",
       "dtype: int64"
      ]
     },
     "execution_count": 9,
     "metadata": {},
     "output_type": "execute_result"
    }
   ],
   "source": [
    "# The \"value_counts()\" function shows you the number of cases that apply per bin\n",
    "pd.cut(factors, 5).value_counts()  # Categoricals can use value_counts() too, just like a Series"
   ]
  },
  {
   "cell_type": "code",
   "execution_count": 10,
   "id": "1297c1cb",
   "metadata": {},
   "outputs": [
    {
     "data": {
      "text/plain": [
       "Young Adult    318\n",
       "Adult          195\n",
       "Teen           108\n",
       "Kid             71\n",
       "Elder           22\n",
       "Name: Age, dtype: int64"
      ]
     },
     "execution_count": 10,
     "metadata": {},
     "output_type": "execute_result"
    }
   ],
   "source": [
    "# The method value_counts() can also be used in Series (not only with Categorical objects)\n",
    "pd.cut(titanic_df.Age, [0, 13, 20, 35, 60, 100], labels=['Kid', 'Teen', 'Young Adult', 'Adult', 'Elder']).value_counts()"
   ]
  },
  {
   "cell_type": "markdown",
   "id": "a8c436be-5584-4c63-bbb4-1a084c04b00a",
   "metadata": {},
   "source": [
    "## QCut()\n",
    "\n",
    "\n",
    "QCut() will create groups (bins) based on \"sample quantiles\", so it'll create bins that will hold as close to the same number of registers (rows, instances, values) in each bin as posible. in other words, qcut() concerns itself with the distribution of the values (not the values themselves) of the structure sent as first argument.\n",
    "\n",
    "The second argument that we send is used to determine the number of bins (Quartiles, Quintiles, Deciles, etc.).\n",
    "\n",
    "You can send an integer to represent the number of bins or send a float array to indicate de percentajes of the positional metrics [0, 0.25, 0.5, 0.75, 1]): \n",
    "<br><br>\n",
    "4   --> Cuartiles <br>\n",
    "5 --> Quintiles <br>\n",
    "10  --> Deciles <br>\n",
    "100 --> Percentiles \n",
    "<br><br>\n",
    "You can also send as second argument a list with percentiles that don't conform to common positional metrics (Quartiles, Deciles, etc.) (e.g. [0, 0.1, 0.25, 0.5, 0.63, 0.75, 1]).\n",
    "<br><br>\n",
    "[Check qcut's documentation](https://pandas.pydata.org/pandas-docs/stable/reference/api/pandas.qcut.html)"
   ]
  },
  {
   "cell_type": "code",
   "execution_count": 12,
   "id": "74c3e0fe",
   "metadata": {},
   "outputs": [
    {
     "data": {
      "text/plain": [
       "(-0.001, 3.0]    4\n",
       "(3.0, 6.0]       3\n",
       "(6.0, 15.0]      3\n",
       "(15.0, 29.0]     3\n",
       "(29.0, 59.0]     3\n",
       "dtype: int64"
      ]
     },
     "execution_count": 12,
     "metadata": {},
     "output_type": "execute_result"
    }
   ],
   "source": [
    "# qcut() tries to have more or less the same number of examples in each bin\n",
    "pd.qcut(factors, 5).value_counts()"
   ]
  },
  {
   "cell_type": "code",
   "execution_count": 13,
   "id": "b2b8d030",
   "metadata": {},
   "outputs": [
    {
     "data": {
      "text/plain": [
       "0       (19.0, 25.0]\n",
       "1       (31.8, 41.0]\n",
       "2       (25.0, 31.8]\n",
       "3       (31.8, 41.0]\n",
       "4       (31.8, 41.0]\n",
       "           ...      \n",
       "886     (25.0, 31.8]\n",
       "887    (0.419, 19.0]\n",
       "888              NaN\n",
       "889     (25.0, 31.8]\n",
       "890     (31.8, 41.0]\n",
       "Name: Age, Length: 891, dtype: category\n",
       "Categories (5, interval[float64]): [(0.419, 19.0] < (19.0, 25.0] < (25.0, 31.8] < (31.8, 41.0] < (41.0, 80.0]]"
      ]
     },
     "execution_count": 13,
     "metadata": {},
     "output_type": "execute_result"
    }
   ],
   "source": [
    "# Follows the same return behaviour as cut\n",
    "pd.qcut(factors, 5)         # Returns a Categorical\n",
    "pd.qcut(titanic_df.Age, 5)  # Returns a Series"
   ]
  },
  {
   "cell_type": "code",
   "execution_count": 14,
   "id": "613e5480",
   "metadata": {},
   "outputs": [
    {
     "data": {
      "text/plain": [
       "0       (19.0, 25.0]\n",
       "1       (31.8, 41.0]\n",
       "2       (25.0, 31.8]\n",
       "3       (31.8, 41.0]\n",
       "4       (31.8, 41.0]\n",
       "           ...      \n",
       "886     (25.0, 31.8]\n",
       "887    (0.419, 19.0]\n",
       "888              NaN\n",
       "889     (25.0, 31.8]\n",
       "890     (31.8, 41.0]\n",
       "Name: Age, Length: 891, dtype: category\n",
       "Categories (5, interval[float64]): [(0.419, 19.0] < (19.0, 25.0] < (25.0, 31.8] < (31.8, 41.0] < (41.0, 80.0]]"
      ]
     },
     "execution_count": 14,
     "metadata": {},
     "output_type": "execute_result"
    }
   ],
   "source": [
    "# Send quantiles based on an List\n",
    "pd.qcut(titanic_df.Age, [0, 0.2, 0.4, 0.6, 0.8, 1])  # Notice that the number of elements in the list is 1 more than the number of bins you want --> 2nd_arg.length = n+1 (where n is number of bins you want)."
   ]
  },
  {
   "cell_type": "code",
   "execution_count": 15,
   "id": "250a4cfe",
   "metadata": {},
   "outputs": [
    {
     "data": {
      "text/plain": [
       "Primer Quintil     4\n",
       "Segundo Quintil    3\n",
       "Tercer Quintil     3\n",
       "Cuarto Quintil     3\n",
       "Quinto Quintil     3\n",
       "dtype: int64"
      ]
     },
     "execution_count": 15,
     "metadata": {},
     "output_type": "execute_result"
    }
   ],
   "source": [
    "# Just like with cut(), you can label the bins with qcut()\n",
    "pd.qcut(factors, 5, labels=[\"Primer Quintil\", \"Segundo Quintil\", \n",
    "                            \"Tercer Quintil\", \"Cuarto Quintil\", \n",
    "                            \"Quinto Quintil\"]).value_counts()"
   ]
  },
  {
   "cell_type": "code",
   "execution_count": 16,
   "id": "2c42215a",
   "metadata": {},
   "outputs": [
    {
     "data": {
      "text/plain": [
       "0      (16.3, 32.3]\n",
       "1      (32.3, 48.2]\n",
       "2      (16.3, 32.3]\n",
       "3      (32.3, 48.2]\n",
       "4      (32.3, 48.2]\n",
       "           ...     \n",
       "886    (16.3, 32.3]\n",
       "887    (16.3, 32.3]\n",
       "888             NaN\n",
       "889    (16.3, 32.3]\n",
       "890    (16.3, 32.3]\n",
       "Name: Age, Length: 891, dtype: category\n",
       "Categories (5, interval[float64]): [(0.3, 16.3] < (16.3, 32.3] < (32.3, 48.2] < (48.2, 64.1] < (64.1, 80.0]]"
      ]
     },
     "execution_count": 16,
     "metadata": {},
     "output_type": "execute_result"
    }
   ],
   "source": [
    "# Precision will dictate how many decimals the bins will display!\n",
    "pd.cut(factors, 5, precision=1)\n",
    "pd.cut(titanic_df.Age, 5,precision=1)"
   ]
  }
 ],
 "metadata": {
  "kernelspec": {
   "display_name": "Python 3",
   "language": "python",
   "name": "python3"
  },
  "language_info": {
   "codemirror_mode": {
    "name": "ipython",
    "version": 3
   },
   "file_extension": ".py",
   "mimetype": "text/x-python",
   "name": "python",
   "nbconvert_exporter": "python",
   "pygments_lexer": "ipython3",
   "version": "3.9.10"
  },
  "varInspector": {
   "cols": {
    "lenName": 16,
    "lenType": 16,
    "lenVar": 40
   },
   "kernels_config": {
    "python": {
     "delete_cmd_postfix": "",
     "delete_cmd_prefix": "del ",
     "library": "var_list.py",
     "varRefreshCmd": "print(var_dic_list())"
    },
    "r": {
     "delete_cmd_postfix": ") ",
     "delete_cmd_prefix": "rm(",
     "library": "var_list.r",
     "varRefreshCmd": "cat(var_dic_list()) "
    }
   },
   "types_to_exclude": [
    "module",
    "function",
    "builtin_function_or_method",
    "instance",
    "_Feature"
   ],
   "window_display": false
  }
 },
 "nbformat": 4,
 "nbformat_minor": 5
}
